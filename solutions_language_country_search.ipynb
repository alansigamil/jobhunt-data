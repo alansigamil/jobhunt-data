{
 "cells": [
  {
   "cell_type": "markdown",
   "metadata": {},
   "source": [
    "## 1: Load Data"
   ]
  },
  {
   "cell_type": "code",
   "execution_count": 1,
   "metadata": {},
   "outputs": [
    {
     "name": "stdout",
     "output_type": "stream",
     "text": [
      "Loaded 10 records from the file.\n"
     ]
    }
   ],
   "source": [
    "import json\n",
    "\n",
    "def load_data(file_path):\n",
    "    \"\"\"\n",
    "    Load the JSON file and return the data.\n",
    "    \"\"\"\n",
    "    try:\n",
    "        with open(file_path, 'r', encoding='utf-8') as file:\n",
    "            data = json.load(file)\n",
    "        return data.get(\"hits\", [])  # Extract 'hits' directly if it's a list\n",
    "    except FileNotFoundError:\n",
    "        print(f\"Error: File not found at {file_path}\")\n",
    "        return []\n",
    "    except json.JSONDecodeError:\n",
    "        print(f\"Error: Unable to decode JSON from file at {file_path}\")\n",
    "        return []\n",
    "\n",
    "# File path to the JSON file\n",
    "file_path = r\"Language_Country_Search.json\"\n",
    "\n",
    "# Load data\n",
    "data = load_data(file_path)\n",
    "\n",
    "# Check if the data is loaded successfully\n",
    "if data:\n",
    "    print(f\"Loaded {len(data)} records from the file.\")\n",
    "else:\n",
    "    print(\"No data available.\")\n"
   ]
  },
  {
   "cell_type": "markdown",
   "metadata": {},
   "source": [
    "## 2: Normalize Data"
   ]
  },
  {
   "cell_type": "code",
   "execution_count": 2,
   "metadata": {},
   "outputs": [
    {
     "name": "stdout",
     "output_type": "stream",
     "text": [
      "Data normalized successfully.\n",
      "  municipality_concept_id municipality region_concept_id          region  \\\n",
      "0                                                                          \n",
      "1            UTJZ_zHH_mJm   Sundbyberg      CifL_Rzy_Mku  Stockholms län   \n",
      "2                                                                          \n",
      "3                                                                          \n",
      "4                                                                          \n",
      "\n",
      "  country_concept_id  country  \\\n",
      "0       37nR_YtF_158  Litauen   \n",
      "1       i46j_HmG_v64  Sverige   \n",
      "2       u8qF_qpq_R5W    Malta   \n",
      "3       WgbG_whJ_E7J  Finland   \n",
      "4       i46j_HmG_v64  Sverige   \n",
      "\n",
      "                                            headline  \\\n",
      "0                  Fondadministratörer till Swedbank   \n",
      "1                  Fondadministratörer till Swedbank   \n",
      "2  Byt regn mot sol – Bli online croupier på magi...   \n",
      "3                                         Controller   \n",
      "4                                         Controller   \n",
      "\n",
      "                                               brief occupation_group.label  \\\n",
      "0  För en av Sveriges största banker och mest att...                    NaN   \n",
      "1  För en av Sveriges största banker och mest att...                    NaN   \n",
      "2  Malta väntar på dig! Njut av en solig vardag p...                    NaN   \n",
      "3  ArbetsbeskrivningÄr du redo att ta ditt nästa ...                    NaN   \n",
      "4  ArbetsbeskrivningÄr du redo att ta ditt nästa ...                    NaN   \n",
      "\n",
      "  occupation_field.label employer.name publication_date  \n",
      "0                Unknown           NaN       2024-11-23  \n",
      "1                Unknown           NaN       2024-11-23  \n",
      "2                Unknown           NaN       2024-11-22  \n",
      "3                Unknown           NaN       2024-11-22  \n",
      "4                Unknown           NaN       2024-11-22  \n"
     ]
    }
   ],
   "source": [
    "import pandas as pd\n",
    "\n",
    "def normalize_data(hits):\n",
    "    \"\"\"\n",
    "    Flatten and clean the data into a Pandas DataFrame.\n",
    "    \"\"\"\n",
    "    if not hits:\n",
    "        print(\"No data available to normalize.\")\n",
    "        return pd.DataFrame()\n",
    "\n",
    "    # Normalize the nested JSON data\n",
    "    df = pd.json_normalize(\n",
    "        hits,\n",
    "        record_path=[\"workplace_addresses\"],  # Adjust the path to the correct key\n",
    "        meta=[\"headline\", \"brief\", \"occupation_group.label\", \"occupation_field.label\", \"employer.name\", \"publication_date\"],\n",
    "        sep=\"_\",\n",
    "        errors=\"ignore\"\n",
    "    )\n",
    "\n",
    "    # Clean and preprocess data\n",
    "    df[\"region\"] = df[\"region\"].fillna(\"Unknown\")\n",
    "    df[\"occupation_field.label\"] = df[\"occupation_field.label\"].fillna(\"Unknown\")\n",
    "    df[\"publication_date\"] = pd.to_datetime(df[\"publication_date\"], errors='coerce')\n",
    "\n",
    "    return df\n",
    "\n",
    "# Normalize the data\n",
    "df = normalize_data(data)\n",
    "\n",
    "# Check if normalization was successful\n",
    "if not df.empty:\n",
    "    print(\"Data normalized successfully.\")\n",
    "    print(df.head())  # Display the first few rows\n",
    "else:\n",
    "    print(\"No data to normalize.\")\n"
   ]
  },
  {
   "cell_type": "markdown",
   "metadata": {},
   "source": [
    "## 3: Analyze Data"
   ]
  },
  {
   "cell_type": "code",
   "execution_count": 3,
   "metadata": {},
   "outputs": [
    {
     "name": "stdout",
     "output_type": "stream",
     "text": [
      "\n",
      "Jobs by Region:\n",
      "region\n",
      "                  11\n",
      "Stockholms län     2\n",
      "Skåne län          2\n",
      "Name: count, dtype: int64\n",
      "\n",
      "Jobs by Occupation Field:\n",
      "occupation_field.label\n",
      "Unknown    15\n",
      "Name: count, dtype: int64\n",
      "\n",
      "Top Employers:\n",
      "Series([], Name: count, dtype: int64)\n"
     ]
    }
   ],
   "source": [
    "def analyze_by_region(df):\n",
    "    \"\"\"Analyze the number of job postings by region.\"\"\"\n",
    "    return df[\"region\"].value_counts()\n",
    "\n",
    "def analyze_by_occupation_field(df):\n",
    "    \"\"\"Analyze the number of job postings by occupation field.\"\"\"\n",
    "    return df[\"occupation_field.label\"].value_counts()\n",
    "\n",
    "def analyze_top_employers(df, top_n=10):\n",
    "    \"\"\"Identify the top employers based on job postings.\"\"\"\n",
    "    return df[\"employer.name\"].value_counts().head(top_n)\n",
    "\n",
    "# Analyze data\n",
    "if not df.empty:\n",
    "    jobs_by_region = analyze_by_region(df)\n",
    "    print(\"\\nJobs by Region:\")\n",
    "    print(jobs_by_region)\n",
    "\n",
    "    jobs_by_field = analyze_by_occupation_field(df)\n",
    "    print(\"\\nJobs by Occupation Field:\")\n",
    "    print(jobs_by_field)\n",
    "\n",
    "    top_employers = analyze_top_employers(df)\n",
    "    print(\"\\nTop Employers:\")\n",
    "    print(top_employers)\n",
    "else:\n",
    "    print(\"No data to analyze.\")\n"
   ]
  },
  {
   "cell_type": "markdown",
   "metadata": {},
   "source": [
    "## 4. Visualize Data"
   ]
  },
  {
   "cell_type": "code",
   "execution_count": 4,
   "metadata": {},
   "outputs": [
    {
     "data": {
      "image/png": "[encoded data removed]",
      "text/plain": [
       "<Figure size 1000x600 with 1 Axes>"
      ]
     },
     "metadata": {},
     "output_type": "display_data"
    },
    {
     "data": {
      "image/png": "[encoded data removed]",
      "text/plain": [
       "<Figure size 1000x600 with 1 Axes>"
      ]
     },
     "metadata": {},
     "output_type": "display_data"
    }
   ],
   "source": [
    "import matplotlib.pyplot as plt\n",
    "\n",
    "def visualize_data(data, title, xlabel, ylabel, color=\"skyblue\"):\n",
    "    \"\"\"Create a bar plot for the given analysis data.\"\"\"\n",
    "    if data.empty:\n",
    "        print(f\"No data available to visualize for: {title}\")\n",
    "        return\n",
    "\n",
    "    plt.figure(figsize=(10, 6))\n",
    "    data.plot(kind=\"bar\", color=color)\n",
    "    plt.title(title)\n",
    "    plt.xlabel(xlabel)\n",
    "    plt.ylabel(ylabel)\n",
    "    plt.xticks(rotation=45)\n",
    "    plt.tight_layout()\n",
    "    plt.show()\n",
    "\n",
    "# Visualize data\n",
    "if not df.empty:\n",
    "    visualize_data(jobs_by_region, \"Job Postings by Region\", \"Region\", \"Number of Postings\")\n",
    "    visualize_data(jobs_by_field, \"Job Postings by Occupation Field\", \"Occupation Field\", \"Number of Postings\", color=\"lightgreen\")\n",
    "else:\n",
    "    print(\"No data to visualize.\")\n"
   ]
  },
  {
   "cell_type": "markdown",
   "metadata": {},
   "source": [
    "## 5. Save the Cleaned Data"
   ]
  },
  {
   "cell_type": "code",
   "execution_count": 5,
   "metadata": {},
   "outputs": [
    {
     "name": "stdout",
     "output_type": "stream",
     "text": [
      "Data successfully saved as CSV to cleaned_Language_Country_Search.csv\n"
     ]
    }
   ],
   "source": [
    "def save_cleaned_data(df, output_path, file_format=\"csv\"):\n",
    "    \"\"\"\n",
    "    Save the cleaned DataFrame to a specified file format.\n",
    "    \n",
    "    Parameters:\n",
    "    df (pd.DataFrame): The cleaned DataFrame to save.\n",
    "    output_path (str): The file path to save the data.\n",
    "    file_format (str): The format to save the file ('csv' or 'excel').\n",
    "    \n",
    "    Returns:\n",
    "    None\n",
    "    \"\"\"\n",
    "    try:\n",
    "        if df.empty:\n",
    "            print(\"No data to save.\")\n",
    "            return\n",
    "        \n",
    "        if file_format == \"csv\":\n",
    "            df.to_csv(output_path, index=False, encoding=\"utf-8\")\n",
    "            print(f\"Data successfully saved as CSV to {output_path}\")\n",
    "        elif file_format == \"excel\":\n",
    "            df.to_excel(output_path, index=False, encoding=\"utf-8\")\n",
    "            print(f\"Data successfully saved as Excel to {output_path}\")\n",
    "        else:\n",
    "            print(\"Unsupported file format. Use 'csv' or 'excel'.\")\n",
    "    except Exception as e:\n",
    "        print(f\"An error occurred while saving the file: {e}\")\n",
    "\n",
    "# Save cleaned data\n",
    "output_csv_path = r\"cleaned_Language_Country_Search.csv\"\n",
    "save_cleaned_data(df, output_csv_path, file_format=\"csv\")\n"
   ]
  }
 ],
 "metadata": {
  "kernelspec": {
   "display_name": "Python 3",
   "language": "python",
   "name": "python3"
  },
  "language_info": {
   "codemirror_mode": {
    "name": "ipython",
    "version": 3
   },
   "file_extension": ".py",
   "mimetype": "text/x-python",
   "name": "python",
   "nbconvert_exporter": "python",
   "pygments_lexer": "ipython3",
   "version": "3.12.7"
  }
 },
 "nbformat": 4,
 "nbformat_minor": 2
}
