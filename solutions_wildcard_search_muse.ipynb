{
 "cells": [
  {
   "cell_type": "markdown",
   "metadata": {},
   "source": [
    "## 1: Load Data"
   ]
  },
  {
   "cell_type": "code",
   "execution_count": 1,
   "metadata": {},
   "outputs": [
    {
     "name": "stdout",
     "output_type": "stream",
     "text": [
      "Loaded 10 records from the file.\n"
     ]
    }
   ],
   "source": [
    "import json\n",
    "\n",
    "def load_data(file_path):\n",
    "    \"\"\"\n",
    "    Load the JSON file and return the data.\n",
    "    \"\"\"\n",
    "    try:\n",
    "        with open(file_path, 'r', encoding='utf-8') as file:\n",
    "            data = json.load(file)\n",
    "        return data.get(\"hits\", [])  # Extract 'hits' directly if it's a list\n",
    "    except FileNotFoundError:\n",
    "        print(f\"Error: File not found at {file_path}\")\n",
    "        return []\n",
    "    except json.JSONDecodeError:\n",
    "        print(f\"Error: Unable to decode JSON from file at {file_path}\")\n",
    "        return []\n",
    "\n",
    "# File path to the new file\n",
    "file_path = r\"Basic_Search_Flen.json\"\n",
    "\n",
    "# Load data\n",
    "data = load_data(file_path)\n",
    "\n",
    "# Check if the data is loaded successfully\n",
    "if data:\n",
    "    print(f\"Loaded {len(data)} records from the file.\")\n",
    "else:\n",
    "    print(\"No data available.\")\n"
   ]
  },
  {
   "cell_type": "markdown",
   "metadata": {},
   "source": [
    "## 2: Inspect Data Structure"
   ]
  },
  {
   "cell_type": "code",
   "execution_count": 2,
   "metadata": {},
   "outputs": [
    {
     "name": "stdout",
     "output_type": "stream",
     "text": [
      "{\n",
      "    \"id\": \"320df311bc1ae58870c360921138dc2c\",\n",
      "    \"headline\": \"Arbetsledare Flen\",\n",
      "    \"brief\": \"Att bygga och sk\\u00f6ta om v\\u00e4gar och infrastruktur \\u00e4r stort. Att bidra till samh\\u00e4llsutvecklingen \\u00e4r \\u00e4nnu st\\u00f6rre.\",\n",
      "    \"occupation_group\": {\n",
      "        \"label\": \"Arbetsledare inom bygg, anl\\u00e4ggning och gruva\",\n",
      "        \"concept_id\": \"w6ud_quG_dgh\"\n",
      "    },\n",
      "    \"occupation_field\": {\n",
      "        \"label\": \"Bygg och anl\\u00e4ggning\",\n",
      "        \"concept_id\": \"j7Cq_ZJe_GkT\"\n",
      "    },\n",
      "    \"employer\": {\n",
      "        \"name\": \"Svevia AB (publ)\"\n",
      "    },\n",
      "    \"workplace_addresses\": [\n",
      "        {\n",
      "            \"municipality_concept_id\": \"P8yp_WT9_Bks\",\n",
      "            \"municipality\": \"Flen\",\n",
      "            \"region_concept_id\": \"s93u_BEb_sx2\",\n",
      "            \"region\": \"S\\u00f6dermanlands l\\u00e4n\",\n",
      "            \"country_concept_id\": \"i46j_HmG_v64\",\n",
      "            \"country\": \"Sverige\"\n",
      "        }\n",
      "    ],\n",
      "    \"publication_date\": \"2024-10-29T00:00:00\",\n",
      "    \"source_links\": [\n",
      "        {\n",
      "            \"label\": \"arbetsformedlingen.se\",\n",
      "            \"url\": \"https://arbetsformedlingen.se/platsbanken/annonser/29215154\"\n",
      "        }\n",
      "    ]\n",
      "}\n"
     ]
    }
   ],
   "source": [
    "# Inspect the first record in the loaded data\n",
    "import json\n",
    "print(json.dumps(data[0], indent=4))  # Pretty print the first record to see its structure\n"
   ]
  },
  {
   "cell_type": "markdown",
   "metadata": {},
   "source": [
    "## 3: Normalize Data"
   ]
  },
  {
   "cell_type": "code",
   "execution_count": 3,
   "metadata": {},
   "outputs": [
    {
     "name": "stdout",
     "output_type": "stream",
     "text": [
      "Data normalized successfully.\n",
      "  municipality_concept_id municipality region_concept_id             region  \\\n",
      "0            P8yp_WT9_Bks         Flen      s93u_BEb_sx2  Södermanlands län   \n",
      "1            P8yp_WT9_Bks         Flen      s93u_BEb_sx2  Södermanlands län   \n",
      "2            P8yp_WT9_Bks         Flen      s93u_BEb_sx2  Södermanlands län   \n",
      "3            P8yp_WT9_Bks         Flen      s93u_BEb_sx2  Södermanlands län   \n",
      "4            P8yp_WT9_Bks         Flen      s93u_BEb_sx2  Södermanlands län   \n",
      "\n",
      "  country_concept_id  country                              headline  \\\n",
      "0       i46j_HmG_v64  Sverige                     Arbetsledare Flen   \n",
      "1       i46j_HmG_v64  Sverige                      Köksbiträde Flen   \n",
      "2       i46j_HmG_v64  Sverige                 Takmontörer till Flen   \n",
      "3       i46j_HmG_v64  Sverige  Sjuksköterska för vaccination - Flen   \n",
      "4       i46j_HmG_v64  Sverige  Timvikarie till servicebostad i Flen   \n",
      "\n",
      "                                               brief occupation_group.label  \\\n",
      "0  Att bygga och sköta om vägar och infrastruktur...                    NaN   \n",
      "1  Dina arbetsuppgifterSom köksbiträde på Trofo I...                    NaN   \n",
      "2  Om jobbetVi söker bra och starka takmontörer t...                    NaN   \n",
      "3  Vi på Vaccinova söker nu engagerade och utåtri...                    NaN   \n",
      "4  StödassistentOm företagetJobbex Omsorg är ett ...                    NaN   \n",
      "\n",
      "  occupation_field.label employer.name publication_date  \n",
      "0                Unknown           NaN       2024-10-29  \n",
      "1                Unknown           NaN       2024-10-21  \n",
      "2                Unknown           NaN       2024-11-12  \n",
      "3                Unknown           NaN       2024-11-20  \n",
      "4                Unknown           NaN       2024-11-12  \n"
     ]
    }
   ],
   "source": [
    "import pandas as pd\n",
    "\n",
    "def normalize_data(hits):\n",
    "    \"\"\"\n",
    "    Flatten and clean the data into a Pandas DataFrame.\n",
    "    \"\"\"\n",
    "    if not hits:\n",
    "        print(\"No data available to normalize.\")\n",
    "        return pd.DataFrame()\n",
    "\n",
    "    # Normalize the nested JSON data with the correct path\n",
    "    df = pd.json_normalize(\n",
    "        hits,\n",
    "        record_path=[\"workplace_addresses\"],  # Adjust this path based on actual structure\n",
    "        meta=[\"headline\", \"brief\", \"occupation_group.label\", \"occupation_field.label\", \"employer.name\", \"publication_date\"],\n",
    "        sep=\"_\",\n",
    "        errors=\"ignore\"\n",
    "    )\n",
    "\n",
    "    # Clean and preprocess data\n",
    "    df[\"region\"] = df[\"region\"].fillna(\"Unknown\")\n",
    "    df[\"occupation_field.label\"] = df[\"occupation_field.label\"].fillna(\"Unknown\")\n",
    "    df[\"publication_date\"] = pd.to_datetime(df[\"publication_date\"], errors='coerce')\n",
    "\n",
    "    return df\n",
    "\n",
    "# Normalize the data\n",
    "df = normalize_data(data)\n",
    "\n",
    "# Check if normalization was successful\n",
    "if not df.empty:\n",
    "    print(\"Data normalized successfully.\")\n",
    "    print(df.head())  # Display the first few rows\n",
    "else:\n",
    "    print(\"No data to normalize.\")\n"
   ]
  },
  {
   "cell_type": "markdown",
   "metadata": {},
   "source": [
    "## 4: Analyze Data"
   ]
  },
  {
   "cell_type": "code",
   "execution_count": 4,
   "metadata": {},
   "outputs": [
    {
     "name": "stdout",
     "output_type": "stream",
     "text": [
      "\n",
      "Jobs by Region:\n",
      "region\n",
      "Södermanlands län    10\n",
      "Name: count, dtype: int64\n",
      "\n",
      "Jobs by Occupation Field:\n",
      "occupation_field.label\n",
      "Unknown    10\n",
      "Name: count, dtype: int64\n",
      "\n",
      "Top Employers:\n",
      "Series([], Name: count, dtype: int64)\n"
     ]
    }
   ],
   "source": [
    "def analyze_by_region(df):\n",
    "    \"\"\"Analyze the number of job postings by region.\"\"\"\n",
    "    return df[\"region\"].value_counts()\n",
    "\n",
    "def analyze_by_occupation_field(df):\n",
    "    \"\"\"Analyze the number of job postings by occupation field.\"\"\"\n",
    "    return df[\"occupation_field.label\"].value_counts()\n",
    "\n",
    "def analyze_top_employers(df, top_n=10):\n",
    "    \"\"\"Identify the top employers based on job postings.\"\"\"\n",
    "    return df[\"employer.name\"].value_counts().head(top_n)\n",
    "\n",
    "# Analyze data\n",
    "if not df.empty:\n",
    "    jobs_by_region = analyze_by_region(df)\n",
    "    print(\"\\nJobs by Region:\")\n",
    "    print(jobs_by_region)\n",
    "\n",
    "    jobs_by_field = analyze_by_occupation_field(df)\n",
    "    print(\"\\nJobs by Occupation Field:\")\n",
    "    print(jobs_by_field)\n",
    "\n",
    "    top_employers = analyze_top_employers(df)\n",
    "    print(\"\\nTop Employers:\")\n",
    "    print(top_employers)\n",
    "else:\n",
    "    print(\"No data to analyze.\")\n"
   ]
  },
  {
   "cell_type": "markdown",
   "metadata": {},
   "source": [
    "##  5: Visualize Data"
   ]
  },
  {
   "cell_type": "code",
   "execution_count": 5,
   "metadata": {},
   "outputs": [
    {
     "data": {
      "image/png": "[encoded data removed]",
      "text/plain": [
       "<Figure size 1000x600 with 1 Axes>"
      ]
     },
     "metadata": {},
     "output_type": "display_data"
    },
    {
     "data": {
      "image/png": "[encoded data removed]",
      "text/plain": [
       "<Figure size 1000x600 with 1 Axes>"
      ]
     },
     "metadata": {},
     "output_type": "display_data"
    }
   ],
   "source": [
    "import matplotlib.pyplot as plt\n",
    "\n",
    "def visualize_data(data, title, xlabel, ylabel, color=\"skyblue\"):\n",
    "    \"\"\"Create a bar plot for the given analysis data.\"\"\"\n",
    "    if data.empty:\n",
    "        print(f\"No data available to visualize for: {title}\")\n",
    "        return\n",
    "\n",
    "    plt.figure(figsize=(10, 6))\n",
    "    data.plot(kind=\"bar\", color=color)\n",
    "    plt.title(title)\n",
    "    plt.xlabel(xlabel)\n",
    "    plt.ylabel(ylabel)\n",
    "    plt.xticks(rotation=45)\n",
    "    plt.tight_layout()\n",
    "    plt.show()\n",
    "\n",
    "# Visualize data\n",
    "if not df.empty:\n",
    "    visualize_data(jobs_by_region, \"Job Postings by Region\", \"Region\", \"Number of Postings\")\n",
    "    visualize_data(jobs_by_field, \"Job Postings by Occupation Field\", \"Occupation Field\", \"Number of Postings\", color=\"lightgreen\")\n",
    "else:\n",
    "    print(\"No data to visualize.\")\n"
   ]
  },
  {
   "cell_type": "markdown",
   "metadata": {},
   "source": [
    "## 6: Save the Cleaned Data"
   ]
  },
  {
   "cell_type": "code",
   "execution_count": 6,
   "metadata": {},
   "outputs": [
    {
     "name": "stdout",
     "output_type": "stream",
     "text": [
      "Data successfully saved as CSV to cleaned_Basic_Search_Flen.csv\n"
     ]
    }
   ],
   "source": [
    "def save_cleaned_data(df, output_path, file_format=\"csv\"):\n",
    "    \"\"\"\n",
    "    Save the cleaned DataFrame to a specified file format.\n",
    "    \n",
    "    Parameters:\n",
    "    df (pd.DataFrame): The cleaned DataFrame to save.\n",
    "    output_path (str): The file path to save the data.\n",
    "    file_format (str): The format to save the file ('csv' or 'excel').\n",
    "    \n",
    "    Returns:\n",
    "    None\n",
    "    \"\"\"\n",
    "    try:\n",
    "        if df.empty:\n",
    "            print(\"No data to save.\")\n",
    "            return\n",
    "        \n",
    "        if file_format == \"csv\":\n",
    "            df.to_csv(output_path, index=False, encoding=\"utf-8\")\n",
    "            print(f\"Data successfully saved as CSV to {output_path}\")\n",
    "        elif file_format == \"excel\":\n",
    "            df.to_excel(output_path, index=False, encoding=\"utf-8\")\n",
    "            print(f\"Data successfully saved as Excel to {output_path}\")\n",
    "        else:\n",
    "            print(\"Unsupported file format. Use 'csv' or 'excel'.\")\n",
    "    except Exception as e:\n",
    "        print(f\"An error occurred while saving the file: {e}\")\n",
    "\n",
    "# Save cleaned data\n",
    "output_csv_path = r\"cleaned_Basic_Search_Flen.csv\"\n",
    "save_cleaned_data(df, output_csv_path, file_format=\"csv\")\n"
   ]
  }
 ],
 "metadata": {
  "kernelspec": {
   "display_name": "Python 3",
   "language": "python",
   "name": "python3"
  },
  "language_info": {
   "codemirror_mode": {
    "name": "ipython",
    "version": 3
   },
   "file_extension": ".py",
   "mimetype": "text/x-python",
   "name": "python",
   "nbconvert_exporter": "python",
   "pygments_lexer": "ipython3",
   "version": "3.12.7"
  }
 },
 "nbformat": 4,
 "nbformat_minor": 2
}
